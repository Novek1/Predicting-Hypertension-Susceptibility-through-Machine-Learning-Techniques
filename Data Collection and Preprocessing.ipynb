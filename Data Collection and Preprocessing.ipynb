# %% [markdown]
# The first step is to import the Pandas, Seaborn ,NumPy and Matplotlib libraries that we are going to use for data cleaning and analysis.

# %%
import pandas as pd 
import seaborn as sns
import numpy as np
import matplotlib.pyplot as plt

# %% [markdown]
# Loading the data set from a CSV file

# %%
df= pd.read_csv("/workspaces/Predicting-Hypertension-/Hypertension-risk-model-main.csv")
df

# %% [markdown]
# # Stage method
# The stage method is used to divide the patient data instances into the five stages of Hypertension diagnosis. The values denoting the start of each category are in entered to two decimal places similar to the decimal places for systolic and diastolic blood pressure in the dataset as well as to avoid unknown values. The method is used in combination with a lambda function within an apply statement 

# %%
def stage(sysBP, diaBP): 
    if sysBP > 180.00 or diaBP > 120.00:
        return "Hypertensive Crisis"
    elif sysBP >= 140.00 or diaBP >= 90.00:
        return "Stage 2 Hypertension"
    elif 130.00 <= sysBP <= 139.99 or 80.00 <= diaBP <= 89.99:
        return "Stage 1 Hypertension"
    elif 120.00 <= sysBP <= 129.00 and diaBP < 80.00:
        return "Elevated"
    elif sysBP < 120.00 and diaBP < 80.00:
        return "Normal"
    return "Unknown"

df["Hyp_stage"]=df[['sysBP','diaBP']].apply(lambda df: stage(df['sysBP'],df['diaBP']),axis=1)
df

# %% [markdown]
# No unknown cases

# %%
unknown=df['Hyp_stage']=="Unknown"
unknown.index

# %% [markdown]
# The countplot below shows the Hypertension stage distribution thus proving the dataset balanced for multi-class classification in addition to the binary classifications.

# %%
plt.figure(figsize=(10,6))
sns.set(style='darkgrid')
sns.countplot(data=df,x="Hyp_stage",hue="Hyp_stage", palette="magma");
plt.title("Hypertension Stage Distribution");


# %% [markdown]
# ## Data Cleaning

# %% [markdown]
# First step of the data cleaning is to check which columns are have null values and if so ,how many? We can check for that using the Dataframe.isnull().sum() command.

# %%
df.isnull().sum()

# %% [markdown]
# Next one checks that the columns are appropriate data types.

# %%
df.info()

# %% [markdown]
# We check if there are any missing values using the Dataframe.duplicated().sum() command

# %%
df.duplicated().sum()

# %% [markdown]
# Filling in the missing values in the columns.With critical use of the Pandas library Dataframe.fillna() command. 

# %%
# Heart Rate column
df['heartRate']= df['heartRate'].fillna(df['heartRate'].mean())

# %%
#check for missing values once more
df.isnull().sum()

# %% [markdown]
# ## Body mass index column cleaning
# Since the Body mass index is usually a right skewed normal distribution the best option for handling missing data in this column is replacing it with the median value.

# %%
plt.figure(figsize=(10,6))
sns.kdeplot(data=df, x=df['BMI'],fill=True);

# %%
df['BMI']=df['BMI'].fillna(df['BMI'].median())

# %% [markdown]
# ## Cigarettes per day column cleaning
# The column is highly categorical and in this case the best missing data filler is the mode.

# %%
df['cigsPerDay']=df['cigsPerDay'].fillna(df['cigsPerDay'].mode()[0])

# %% [markdown]
# ## Blood pressure medication column cleaning
# The column is also  highly categorical and the best missing data filler is the modal value

# %%
df['BPMeds']=df['BPMeds'].fillna(df['BPMeds'].mode()[0] )

# %% [markdown]
# ## Total cholesterol column cleaning
# This is a right skewed normal distribution and to avoid distortion by the extreme values we use a median value to fill in the blanks.

# %%
sns.kdeplot(data=df,x=df['totChol'],fill=True);

# %%
df['totChol']=df['totChol'].fillna(df['totChol'].median())


# %% [markdown]
# ## Lastly, Glucose level column cleaning
# Another right skewed normal distribution , here we need to prevent the filler data from being affected by the diabetic patients' data and use the median once value more

# %%
sns.kdeplot(data=df,x=df['glucose'],fill=True);

# %%
df['glucose']=df['glucose'].fillna(df['glucose'].median())


# %%
#check for missing values once more
df.isnull().sum()

# %% [markdown]
# Save the cleaned dataframe

# %%
df.to_csv("Hypertension_Cleaned.csv")


# %%
df

# %% [markdown]
# # Data Analysis
# To get a general description fo the dataset we can use the DataFrame.describe() command and get the count,mean ,standard deviation, minimum, maximum and quartiles of each numerical column.

# %%
df[['BMI','totChol','cigsPerDay','age','sysBP','diaBP']].describe().transpose()

# %% [markdown]
# After analyzing the distribution of the systolic blood pressure we can see that the values are skewed toward higher values which are possible hypertension cases with a peak around 120 to 139 mmHg.

# %%
sns.histplot(data=df,x='sysBP',kde=True,color='purple',bins=40)
plt.title('Systolic blood pressure distribution');

# %% [markdown]
# Whereas the distribution of diastolic blood pressure follows a more normal distribution and there are many values above 80 mmHg which is part of the elevated hypertension stage and higher.

# %%
sns.histplot(data=df,x='diaBP',kde=True,color='blue',bins=40)
plt.title('Diastolic blood pressure distribution');

# %% [markdown]
# We will now analyze the data set and find any relation in the columns. The first step would be to divide the data set into the hypertensive population and non-hypertensive population.

# %%
non_hypert= df[df['Risk']==0]
hypert=df[df['Risk']==1]

# %%
hypert

# %%
non_hypert

# %% [markdown]
# Analyzing the distribution of age across the hypertensive sample from the dataset we can see that a majority of the patients are above the age of 50. Indicating that older patients are more likely to have hypertension.

# %%
plt.figure(figsize=(12,4))
sns.countplot(data=hypert,x=hypert['age'],hue='age').set(title="Age distribution across hypertensive sample");

# %% [markdown]
# Whereas the contrary is true for the non-hypertensive sample, showing that a majority of the patients without hypertension are below the age of 50. 

# %%
plt.figure(figsize=(12,4))
sns.countplot(data=non_hypert,x=non_hypert['age'],hue='age',palette='inferno').set(title='Age distribution across Non-hypertensive sample');

# %% [markdown]
# Now we study the difference in BMI distribution between hypertensive and non-hypertensive groups.Here the non-hypertensive samples highest density around the body mass index of 20 to 25 which is the healthy weight range and the hypertensive sample has a peak density at around 25-30 which includes overweight patients. This shows that the higher a patients BMI ,the more likely they are to have high blood pressure.

# %%
plt.figure(figsize=(10,4))
sns.kdeplot(data=non_hypert,x=non_hypert['BMI'],fill=True,color='red').set(title='BMI distribution across Non-hypertensive sample');

# %%
plt.figure(figsize=(10,4))
sns.kdeplot(data=hypert,x=hypert['BMI'],fill=True).set(title='BMI distribution across Hypertensive sample');

# %% [markdown]
# Other features we can analyze are the risk factors and the extent to which they relate to the patients hypertension stage in each instance
# # Blood Pressure Medication
# Firstly we can take a closer look at the Blood pressure medication column and how it relates to the hypertension stage.The plot below shows that the patients with stage 2 and hypertensive crisis stages need the are the most reliant on the medication thus the model may use this feature to determine the label during application.

# %%
plt.figure(figsize=(8, 5))
sns.barplot(data=df, x="Hyp_stage", y="BPMeds", estimator=np.mean, palette="bwr",hue="Hyp_stage");

plt.title("BP Medication Usage Across Hypertension Stages");
plt.xlabel("Hypertension Stage")
plt.ylabel("Proportion on BP Meds")
plt.xticks(rotation=30)

pd.crosstab(df["Hyp_stage"], df["BPMeds"], normalize="index") * 100;

# %% [markdown]
# # Total cholesterol
# Total cholesterol proves to increase as the patients hypertension stages increase. With the normal stage having the least total cholesterol and hypertension crisis having the greatest total cholesterol.

# %%
plt.figure(figsize=(10, 5))
sns.barplot(data=df, x="Hyp_stage", y="totChol", palette="inferno",hue="Hyp_stage");

plt.title("Total Cholesterol Across Hypertension Stages")

plt.xlabel("Hypertension stage")
plt.ylabel("Total cholesterol")
plt.xticks(rotation=30)

# correlation command
df["totChol"].corr(df["Hyp_stage"].astype("category").cat.codes);


# %% [markdown]
# # Diabetes
# The analytic barplot below shows that the relation between diabetes and hypertension increases as the patient hypertension levels progress from stage 1 and upwards. This proves that most of the patients with a positive diagnosis in hypertension are also diabetics

# %%

plt.figure(figsize=(8, 5))
sns.barplot(data=df, x="Hyp_stage", y="diabetes", estimator=np.mean, palette="magma",hue="Hyp_stage");

plt.title("Diabetes Prevalence Across Hypertension Stages");
plt.xlabel("Hypertension stages")
plt.ylabel("Proportion with diabetes")

plt.xticks(rotation=30)

pd.crosstab(df["Hyp_stage"], df["diabetes"], normalize="index") * 100;


# %% [markdown]
# ## Feature Selection and Engineering
# Start by one-Hot encoding the Hypertension stage feature.

# %%
df=pd.get_dummies(data=df,columns=['Hyp_stage'],dtype=int)

# %%
df

# %%
df.to_csv("Hypertension_Cleaned_OH_encoded.csv")

# %% [markdown]
# Since we are doing categorical classification we can benefit from deleting the binary hypertension risk feature

# %%
df=df.drop("Risk", axis =1)

# %%
df


